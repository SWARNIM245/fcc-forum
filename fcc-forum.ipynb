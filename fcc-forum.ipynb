{
 "cells": [
  {
   "cell_type": "code",
   "execution_count": null,
   "id": "015e604f-aa2c-464a-a9eb-5daaf89e7fbe",
   "metadata": {},
   "outputs": [],
   "source": [
    "import pandas as pd\n",
    "import seaborn as sns\n",
    "import matplotlib.pyplot as plt\n",
    "import numpy as np\n",
    "\n",
    "# Load the dataset\n",
    "df = pd.read_csv('medical_examination.csv')\n",
    "\n",
    "# Step 2: Calculate BMI and determine overweight status\n",
    "df['bmi'] = df['weight'] / (df['height'] / 100) ** 2\n",
    "df['overweight'] = (df['bmi'] > 25).astype(int)  # 1 for overweight, 0 for not overweight\n",
    "\n",
    "# Step 3: Normalize cholesterol and gluc values\n",
    "df['cholesterol'] = df['cholesterol'].apply(lambda x: 0 if x == 1 else 1)\n",
    "df['gluc'] = df['gluc'].apply(lambda x: 0 if x == 1 else 1)\n",
    "\n",
    "# Step 4: Melt the dataframe for categorical plot\n",
    "df_cat = pd.melt(df, id_vars=[\"cardio\"], value_vars=[\"cholesterol\", \"gluc\", \"smoke\", \"alco\", \"active\", \"overweight\"])\n",
    "df_cat = df_cat.rename(columns={\"variable\": \"feature\", \"value\": \"result\"})\n",
    "\n",
    "# Step 5: Draw the categorical plot\n",
    "def draw_cat_plot():\n",
    "    fig = sns.catplot(x=\"feature\", hue=\"result\", col=\"cardio\", data=df_cat, kind=\"count\")\n",
    "    plt.show()\n",
    "    return fig\n",
    "\n",
    "# Step 6: Clean the data for the heatmap\n",
    "df_heat = df[\n",
    "    (df['ap_lo'] <= df['ap_hi']) &\n",
    "    (df['height'] >= df['height'].quantile(0.025)) &\n",
    "    (df['height'] <= df['height'].quantile(0.975)) &\n",
    "    (df['weight'] >= df['weight'].quantile(0.025)) &\n",
    "    (df['weight'] <= df['weight'].quantile(0.975))\n",
    "]\n",
    "\n",
    "# Step 7: Calculate the correlation matrix\n",
    "corr = df_heat.corr()\n",
    "\n",
    "# Step 8: Create a mask for the upper triangle\n",
    "mask = np.triu(np.ones_like(corr, dtype=bool))\n",
    "\n",
    "# Step 9: Draw the heatmap\n",
    "def draw_heat_map():\n",
    "    plt.figure(figsize=(10, 8))\n",
    "    sns.heatmap(corr, annot=True, fmt=\".1f\", mask=mask, cmap=\"coolwarm\", vmin=-1, vmax=1)\n",
    "    plt.show()\n",
    "\n",
    "# Main function to execute the visualizations\n",
    "if __name__ == \"__main__\":\n",
    "    draw_cat_plot()  # Draw categorical plot\n",
    "    draw_heat_map()  # Draw heatmap\n"
   ]
  }
 ],
 "metadata": {
  "kernelspec": {
   "display_name": "Python 3 (ipykernel)",
   "language": "python",
   "name": "python3"
  },
  "language_info": {
   "codemirror_mode": {
    "name": "ipython",
    "version": 3
   },
   "file_extension": ".py",
   "mimetype": "text/x-python",
   "name": "python",
   "nbconvert_exporter": "python",
   "pygments_lexer": "ipython3",
   "version": "3.12.1"
  }
 },
 "nbformat": 4,
 "nbformat_minor": 5
}
